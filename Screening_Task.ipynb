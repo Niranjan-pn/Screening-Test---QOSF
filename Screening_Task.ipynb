{
  "nbformat": 4,
  "nbformat_minor": 0,
  "metadata": {
    "colab": {
      "name": "Screening Task.ipynb",
      "provenance": []
    },
    "kernelspec": {
      "name": "python3",
      "display_name": "Python 3"
    }
  },
  "cells": [
    {
      "cell_type": "markdown",
      "metadata": {
        "id": "BRGKGynpQf7E",
        "colab_type": "text"
      },
      "source": [
        "# Screening Task 4 \n",
        "### Finding minimum eigenvalue of the given 4x4 matrix"
      ]
    },
    {
      "cell_type": "markdown",
      "metadata": {
        "id": "-iX7HFGdQ0fr",
        "colab_type": "text"
      },
      "source": [
        "###Step 1 :\n",
        "  Decomposing the given matrix into linear combination of pauli matrices {II,XX,ZZ,YY}\n",
        "\n",
        "$Given matrix A =\n",
        " \\begin{pmatrix}\n",
        "  1 & 0 & 0 & 0 \\\\\n",
        "  0 & 0 & -1 & 0\\\\\n",
        "  0  & -1  & 0 & 0  \\\\\n",
        " 0 & 0 & 0 & 1\n",
        " \\end{pmatrix}$\n",
        "\n",
        "$II =\n",
        " \\begin{pmatrix}\n",
        "  1 & 0 & 0 & 0 \\\\\n",
        "  0 &1 & 0 & 0\\\\\n",
        "  0  & 1  & 0 & 0  \\\\\n",
        " 0 & 0 & 0 & 1\n",
        " \\end{pmatrix}$\n",
        "\n",
        " $XX =\n",
        " \\begin{pmatrix}\n",
        "  0 & 0 & 0 & 1 \\\\\n",
        "  0 &0 & 1 & 0\\\\\n",
        "  0  & 1  & 0 & 0  \\\\\n",
        " 1 & 0 & 0 &0\n",
        " \\end{pmatrix}$\n",
        "\n",
        " $ZZ =\n",
        " \\begin{pmatrix}\n",
        "  1 & 0 & 0 & 0 \\\\\n",
        "  0 &-1 & 0 & 0\\\\\n",
        "  0  & 0 & -1 & 0  \\\\\n",
        " 0 & 0 & 0 & 1\n",
        " \\end{pmatrix}$\n",
        "\n",
        " $YY =\n",
        " \\begin{pmatrix}\n",
        "  0 & 0 & 0 & -1 \\\\\n",
        "  0 &0 & 1 & 0\\\\\n",
        "  0  & 1  & 0 & 0  \\\\\n",
        " -1 & 0 & 0 &0\n",
        " \\end{pmatrix}$\n",
        "\n",
        " Therefore $A$ can be decomposed as,\n",
        "\n",
        " $A = 0.5II + 0.5ZZ - 0.5XX - 0.5YY$   ----->> Eq 1\n",
        "\n",
        "### Step 2 :\n",
        "\n",
        "To get minimum EigenValue,\n",
        "The minimum expected value is calculated for every pauli matrix as stated below.\n",
        "\n",
        "For $II = Min(Expected(  |00> + |01> + |10> + |11>  ))$\n",
        "\n",
        "For $ZZ = Min(Expected(|01> + |10> - |00> - |11>))$\n",
        "\n",
        "For $XX = 2 * Min(Expected( |00> + |01>  ))$\n",
        "\n",
        "For $YY = 2 * Min(Expected( |00> + |01>  ))$\n",
        "\n",
        "### Step 3:\n",
        "\n",
        "This minimum values are substituted back in $eq 1$ This  gives the minimum eigen value "
      ]
    },
    {
      "cell_type": "code",
      "metadata": {
        "id": "SVD7br3bJ_U0",
        "colab_type": "code",
        "colab": {}
      },
      "source": [
        "!pip install qiskit"
      ],
      "execution_count": null,
      "outputs": []
    },
    {
      "cell_type": "markdown",
      "metadata": {
        "id": "OFd1k69RcIgA",
        "colab_type": "text"
      },
      "source": [
        "#### Imports"
      ]
    },
    {
      "cell_type": "code",
      "metadata": {
        "id": "EVAzTZNyKE7Z",
        "colab_type": "code",
        "colab": {}
      },
      "source": [
        "from qiskit import *\n",
        "from math import pi\n",
        "import numpy as np\n",
        "from qiskit import IBMQ\n",
        "backend = Aer.get_backend('statevector_simulator')\n",
        "import matplotlib.pyplot as plt"
      ],
      "execution_count": 112,
      "outputs": []
    },
    {
      "cell_type": "markdown",
      "metadata": {
        "id": "FX3rg5FicTbg",
        "colab_type": "text"
      },
      "source": [
        "#### VQE"
      ]
    },
    {
      "cell_type": "code",
      "metadata": {
        "id": "GzZeMrq5K3qz",
        "colab_type": "code",
        "colab": {}
      },
      "source": [
        "def VQE(teta,p_matrix) :\n",
        "\n",
        "  ## Initalization of Quantum Circuit\n",
        "  reg = QuantumRegister(2 , name = 'reg')\n",
        "  cbits = ClassicalRegister(2 , name ='cbits')\n",
        "  qc = QuantumCircuit(reg,cbits)\n",
        "\n",
        "  ## Anzatz with teta as paramater\n",
        "\n",
        "  qc.h(0)\n",
        "  qc.cx(0,1)\n",
        "  qc.rx(teta,0)\n",
        "\n",
        "  ## Calculating expectation values\n",
        "\n",
        "  qc.measure(reg,cbits)\n",
        "  backend = Aer.get_backend('qasm_simulator')\n",
        "  shots = 2048\n",
        "  results = execute(qc, backend=backend, shots=shots).result()\n",
        "  counts = results.get_counts()\n",
        "  c_00,c_11,c_10,c_01 = 0,0,0,0\n",
        "  for i in counts.keys():\n",
        "    if i == '00':\n",
        "      c_00 =  counts['00']\n",
        "    if i == '01':\n",
        "      c_01 =  counts['01']\n",
        "    if i == '10' :\n",
        "      c_10 =  counts['10']\n",
        "    if i == '11':\n",
        "      c_11 =  counts['11'] \n",
        "  sum = 0\n",
        "  expected = 0\n",
        "\n",
        "  if p_matrix == 'II':\n",
        "    expected = (c_00+c_01+c_10 + c_11)/shots ## Expectation for II \n",
        "  if p_matrix == 'ZZ':\n",
        "    expected = (c_10+c_01-c_00-c_11)/shots ## Expectation for ZZ\n",
        "  if p_matrix == 'XX':\n",
        "    expected = -2*(c_01+c_00)/shots ## Expectation for XX  \n",
        "  if p_matrix == 'YY': \n",
        "    expected = -2*(c_01+c_00)/shots ## Expectation for YY\n",
        "  return(expected)"
      ],
      "execution_count": 113,
      "outputs": []
    },
    {
      "cell_type": "markdown",
      "metadata": {
        "id": "KWp8OnbxcY8y",
        "colab_type": "text"
      },
      "source": [
        "#### Main Function"
      ]
    },
    {
      "cell_type": "code",
      "metadata": {
        "id": "Ix5rZwmYLH_a",
        "colab_type": "code",
        "colab": {
          "base_uri": "https://localhost:8080/",
          "height": 35
        },
        "outputId": "c9c9309f-49af-48b9-8543-f60d42ebda86"
      },
      "source": [
        "tet= np.linspace(0,2*np.pi,720) ## list of 720 angles between 0 to 2*pi \n",
        "mat = ['II','XX','ZZ','YY'] ##List of pauli matrices\n",
        "sum = 0\n",
        "for i in mat:\n",
        "  exp_values = []\n",
        "  for t in tet:\n",
        "    exp_values.append(VQE(t,i))\n",
        "  if i == 'II':\n",
        "    sum = 0.5*min(exp_values) + sum\n",
        "  if i == 'ZZ':\n",
        "    sum = 0.5*min(exp_values) + sum\n",
        "  if i == 'XX':\n",
        "    sum = 0.5*min(exp_values) + sum ## The negative sign is taken care while calculating expectations\n",
        "  if i == 'YY':\n",
        "    sum = 0.5*min(exp_values) + sum ## The negative sign is taken care while calculating expectations\n",
        "print(sum)"
      ],
      "execution_count": 114,
      "outputs": [
        {
          "output_type": "stream",
          "text": [
            "-1.07568359375\n"
          ],
          "name": "stdout"
        }
      ]
    }
  ]
}